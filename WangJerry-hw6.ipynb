{
 "cells": [
  {
   "cell_type": "markdown",
   "metadata": {},
   "source": [
    "** Homework six (25 Points)**\n",
    "\n",
    "• (Reading) Ch5, Machine Learning [Python Data Science Handbook](https://jakevdp.github.io/PythonDataScienceHandbook/), up to and including Linear Regression; and the in-class reading ** cross_validation_forEconomists ** on polylearn. \n",
    "\n",
    "• (UnGraded) DataCamp chapter in Supervised Learning with scikit-learn: **Regression** and **Fine Tuning Your Model**. For the Tuning chapter focus on the lessons including and following (Hyperparameter tuning). Quiz questions will be from these chapters and the reading.\n",
    "\n",
    "• (Graded) Below notebook on fine tuning your model. If you're working in a group (max 3 people) please do submit it as a group. Submit only one assignment. You will both receive credit. This homework is longer and will count as hw6 and hw7 - 20 points. The code is very similar to our in-class exercise, therefore, points are granted for understanding of the output. "
   ]
  },
  {
   "cell_type": "code",
   "execution_count": 1,
   "metadata": {
    "collapsed": false
   },
   "outputs": [
    {
     "name": "stderr",
     "output_type": "stream",
     "text": [
      "C:\\Users\\Jerry Wang\\Anaconda3\\lib\\site-packages\\sklearn\\cross_validation.py:41: DeprecationWarning: This module was deprecated in version 0.18 in favor of the model_selection module into which all the refactored classes and functions are moved. Also note that the interface of the new CV iterators are different from that of this module. This module will be removed in 0.20.\n",
      "  \"This module will be removed in 0.20.\", DeprecationWarning)\n",
      "C:\\Users\\Jerry Wang\\Anaconda3\\lib\\site-packages\\sklearn\\grid_search.py:42: DeprecationWarning: This module was deprecated in version 0.18 in favor of the model_selection module into which all the refactored classes and functions are moved. This module will be removed in 0.20.\n",
      "  DeprecationWarning)\n"
     ]
    }
   ],
   "source": [
    "# Import Modules\n",
    "import numpy as np\n",
    "import pandas as pd\n",
    "import matplotlib.pyplot as plt\n",
    "%matplotlib inline  \n",
    "from sklearn.linear_model import LinearRegression\n",
    "from sklearn.linear_model import Ridge\n",
    "from sklearn.linear_model import RidgeCV\n",
    "from sklearn.grid_search import GridSearchCV\n",
    "from sklearn.cross_validation import KFold\n",
    "from sklearn.cross_validation import cross_val_score\n",
    "from sklearn.metrics import mean_squared_error\n",
    "from sklearn.cross_validation import train_test_split\n",
    "from sklearn.preprocessing import PolynomialFeatures"
   ]
  },
  {
   "cell_type": "code",
   "execution_count": 2,
   "metadata": {
    "collapsed": true
   },
   "outputs": [],
   "source": [
    "# Load the Ladybug data\n",
    "'''In 1983 an article was published about ladybird beetles and their \n",
    "behavior changes under different temperature conditions (N. H. Copp. Animal Behavior, 31,:424-430). \n",
    "An experiment was run to see how many beetles stayed in light as temperature changed.\n",
    "'''\n",
    "\n",
    "# Read the CSV file into a DataFrame: df\n",
    "df = pd.read_csv(\"LadyBugs.csv\")\n",
    "\n",
    "# Create arrays for features (Lighted) and target variable (Temp)\n",
    "y = df[['Lighted']]\n",
    "X = df[['Temp']]"
   ]
  },
  {
   "cell_type": "code",
   "execution_count": 3,
   "metadata": {
    "collapsed": false
   },
   "outputs": [
    {
     "data": {
      "text/html": [
       "<div>\n",
       "<table border=\"1\" class=\"dataframe\">\n",
       "  <thead>\n",
       "    <tr style=\"text-align: right;\">\n",
       "      <th></th>\n",
       "      <th>Temp</th>\n",
       "      <th>Lighted</th>\n",
       "    </tr>\n",
       "  </thead>\n",
       "  <tbody>\n",
       "    <tr>\n",
       "      <th>0</th>\n",
       "      <td>-2</td>\n",
       "      <td>28</td>\n",
       "    </tr>\n",
       "    <tr>\n",
       "      <th>1</th>\n",
       "      <td>-1</td>\n",
       "      <td>29</td>\n",
       "    </tr>\n",
       "    <tr>\n",
       "      <th>2</th>\n",
       "      <td>0</td>\n",
       "      <td>22</td>\n",
       "    </tr>\n",
       "    <tr>\n",
       "      <th>3</th>\n",
       "      <td>1</td>\n",
       "      <td>28</td>\n",
       "    </tr>\n",
       "    <tr>\n",
       "      <th>4</th>\n",
       "      <td>2</td>\n",
       "      <td>34</td>\n",
       "    </tr>\n",
       "  </tbody>\n",
       "</table>\n",
       "</div>"
      ],
      "text/plain": [
       "   Temp  Lighted\n",
       "0    -2       28\n",
       "1    -1       29\n",
       "2     0       22\n",
       "3     1       28\n",
       "4     2       34"
      ]
     },
     "execution_count": 3,
     "metadata": {},
     "output_type": "execute_result"
    }
   ],
   "source": [
    "# Show the first 5 observations (1 point)\n",
    "# your code here\n",
    "df.head(5)"
   ]
  },
  {
   "cell_type": "markdown",
   "metadata": {
    "collapsed": true
   },
   "source": [
    "# Linear Regression, Part I  "
   ]
  },
  {
   "cell_type": "code",
   "execution_count": 4,
   "metadata": {
    "collapsed": false
   },
   "outputs": [
    {
     "data": {
      "text/plain": [
       "array([[ 0.58398762]])"
      ]
     },
     "execution_count": 4,
     "metadata": {},
     "output_type": "execute_result"
    }
   ],
   "source": [
    "# (1 point)\n",
    "# Create training and test sets with 0.3 test size\n",
    "X_train, X_test, y_train, y_test = train_test_split(X, y, test_size = 0.3)\n",
    "\n",
    "# Create linear regression object call ols\n",
    "ols = LinearRegression()\n",
    "  \n",
    "# Train the model using the training sets\n",
    "# your code here\n",
    "ols.fit(X_train, y_train)\n",
    "\n",
    "# Report the coefficient \n",
    "# your code here \n",
    "ols.coef_"
   ]
  },
  {
   "cell_type": "markdown",
   "metadata": {},
   "source": [
    "## Plot outputs"
   ]
  },
  {
   "cell_type": "code",
   "execution_count": 5,
   "metadata": {
    "collapsed": false
   },
   "outputs": [
    {
     "data": {
      "text/plain": [
       "<matplotlib.collections.PathCollection at 0x20587deb6a0>"
      ]
     },
     "execution_count": 5,
     "metadata": {},
     "output_type": "execute_result"
    },
    {
     "data": {
      "image/png": "[encoded data removed]",
      "text/plain": [
       "<matplotlib.figure.Figure at 0x20587ee66a0>"
      ]
     },
     "metadata": {},
     "output_type": "display_data"
    }
   ],
   "source": [
    "# (1 point)\n",
    "# This plots the predicted ols fitted line\n",
    "min = X_test.min()\n",
    "max = X_test.max() \n",
    "predictor_space = pd.DataFrame(np.arange(min, max,  0.05))\n",
    "plt.plot(predictor_space, ols.predict(predictor_space), color='blue', linewidth=3)\n",
    "\n",
    "# Scatter plot the actual test data \n",
    "# your code here\n",
    "plt.scatter(X_test, y_test, color='black')"
   ]
  },
  {
   "cell_type": "markdown",
   "metadata": {},
   "source": [
    "## Predict on the Test data"
   ]
  },
  {
   "cell_type": "code",
   "execution_count": 6,
   "metadata": {
    "collapsed": false
   },
   "outputs": [
    {
     "name": "stdout",
     "output_type": "stream",
     "text": [
      "R^2: -0.040861990028137285\n",
      "Root Mean Squared Error: 13.45475114818318\n"
     ]
    }
   ],
   "source": [
    "# Get the predicted y_pred using the test data\n",
    "y_pred = ols.predict(X_test)\n",
    "\n",
    "# Compute and print the R^2 and RMSE\n",
    "print(\"R^2: {}\".format(ols.score(X_test, y_test)))\n",
    "rmse = np.sqrt(mean_squared_error(y_test, y_pred))\n",
    "print(\"Root Mean Squared Error: {}\".format(rmse))"
   ]
  },
  {
   "cell_type": "markdown",
   "metadata": {},
   "source": [
    "## a. Does this plot look like a good fit to the data? # (1 point)\n",
    "## b. What do out of sample metrics tell you? (1 point)\n",
    "### \n",
    "A. The regression line has low variance as it is linear, but has high bias as it does not predict the data points very well even within the model.\n",
    "B. The low R^2 shows that the model only explains a little bit of the variance in the sample. The Root Mean Squared Error shows that the model is also not very precise as it is too high to be a great predictor for the data."
   ]
  },
  {
   "cell_type": "markdown",
   "metadata": {},
   "source": [
    "# Polynomial Regression, Part II"
   ]
  },
  {
   "cell_type": "code",
   "execution_count": 7,
   "metadata": {
    "collapsed": false
   },
   "outputs": [
    {
     "name": "stdout",
     "output_type": "stream",
     "text": [
      "Dimensions of X after reshaping: (44, 1)\n"
     ]
    },
    {
     "data": {
      "text/plain": [
       "array([[  0.00000000e+00,   5.37114336e-10,  -9.09666783e-13,\n",
       "          7.67809192e-13,   8.26243102e-12,   8.15346706e-11,\n",
       "          7.17798796e-10,   5.34161213e-09,   3.01496599e-08,\n",
       "          9.68109394e-08,  -2.29242367e-08,   2.18126546e-09,\n",
       "         -1.08953368e-10,   3.02465618e-12,  -4.43079040e-14,\n",
       "          2.67783235e-16]])"
      ]
     },
     "execution_count": 7,
     "metadata": {},
     "output_type": "execute_result"
    }
   ],
   "source": [
    "#(2 points)\n",
    "# Reload the CSV file into a DataFrame: df\n",
    "df = pd.read_csv(\"LadyBugs.csv\")\n",
    "\n",
    "# Create arrays for features (Lighted) and target variable (Temp)\n",
    "# your code here\n",
    "y = df[['Lighted']]\n",
    "X = df[['Temp']]\n",
    "\n",
    "# Add in 15-degree polynomial of the X variables\n",
    "poly = PolynomialFeatures(degree = 15)\n",
    "X1 = pd.DataFrame(poly.fit_transform(X))\n",
    "print(\"Dimensions of X after reshaping: {}\".format(X.shape))\n",
    "\n",
    "# Create training and test sets with .3 test size\n",
    "# your code here\n",
    "X_train, X_test, y_train, y_test = train_test_split(X1, y, test_size = 0.3)\n",
    "\n",
    "# Create linear regression object, ols2\n",
    "# your code here\n",
    "ols2 = LinearRegression()\n",
    "\n",
    "# Fit the model using the training sets \n",
    "# your code here\n",
    "ols2.fit(X_train, y_train)\n",
    "\n",
    "# Report the coefficients\n",
    "# your code here                    \n",
    "ols2.coef_  "
   ]
  },
  {
   "cell_type": "markdown",
   "metadata": {},
   "source": [
    "## Plot outputs"
   ]
  },
  {
   "cell_type": "code",
   "execution_count": 8,
   "metadata": {
    "collapsed": false
   },
   "outputs": [
    {
     "data": {
      "text/plain": [
       "<matplotlib.collections.PathCollection at 0x20588117940>"
      ]
     },
     "execution_count": 8,
     "metadata": {},
     "output_type": "execute_result"
    },
    {
     "data": {
      "image/png": "[encoded data removed]",
      "text/plain": [
       "<matplotlib.figure.Figure at 0x205833a2400>"
      ]
     },
     "metadata": {},
     "output_type": "display_data"
    }
   ],
   "source": [
    "#(1 point)\n",
    "# This plots the predicted ols fitted line\n",
    "predictor_space = pd.DataFrame(np.arange(min, max, 0.05)) # Creates prediction space on x interval\n",
    "predictor_poly = pd.DataFrame(poly.fit_transform(predictor_space)) # Creates data to predict on\n",
    "plt.plot(predictor_space, ols2.predict(predictor_poly), color='blue') # Plot fitted model \n",
    "\n",
    "# Scatter plot the actual test data\n",
    "# your code here\n",
    "plt.scatter(X_test.iloc[:,[1]], y_test, color='black')"
   ]
  },
  {
   "cell_type": "markdown",
   "metadata": {},
   "source": [
    "## Predict on the Test data"
   ]
  },
  {
   "cell_type": "code",
   "execution_count": 9,
   "metadata": {
    "collapsed": false
   },
   "outputs": [
    {
     "name": "stdout",
     "output_type": "stream",
     "text": [
      "R^2: -2.988362055635382\n",
      "Root Mean Squared Error: 24.267554791782402\n"
     ]
    }
   ],
   "source": [
    "#(1 point)\n",
    "# Predict on the test data: y_pred\n",
    "# your code here\n",
    "y_pred = ols2.predict(X_test)\n",
    "\n",
    "# Computer and print R^2 and RMSE\n",
    "# your code here\n",
    "print(\"R^2: {}\".format(ols2.score(X_test, y_test)))\n",
    "rmse = np.sqrt(mean_squared_error(y_test, y_pred))\n",
    "print(\"Root Mean Squared Error: {}\".format(rmse))"
   ]
  },
  {
   "cell_type": "markdown",
   "metadata": {},
   "source": [
    "## a. Does this plot look better than the previous OLS plot? (1 point)\n",
    "## b. Why? What do out of sample metrics tell you? (1 point)\n",
    "### your answer here\n",
    "A. It is much more fitted, where there is high bias to the model and lower variance between the model and the points provided in the data as compared to the simple OLS plot.\n",
    "B. The R^2 shows that the model is a worse fit than a horizontal line as seen by the negative r-squared. That means the model isn't a great at explaining the data. The high Root Mean Squared Error shows that the model is also not very precise as it is too high to be a great predictor for the data."
   ]
  },
  {
   "cell_type": "markdown",
   "metadata": {},
   "source": [
    "# Ridge Regression, Part III"
   ]
  },
  {
   "cell_type": "code",
   "execution_count": 10,
   "metadata": {
    "collapsed": false
   },
   "outputs": [
    {
     "name": "stdout",
     "output_type": "stream",
     "text": [
      "Dimensions of X after reshaping: (44, 1)\n"
     ]
    },
    {
     "data": {
      "text/plain": [
       "array([[  0.00000000e+00,   1.32453637e+00,  -1.81633514e-03,\n",
       "         -3.80356413e-04,  -1.25111007e-05,  -3.21911712e-07,\n",
       "         -7.38579022e-09,  -1.53025678e-10,  -2.70087892e-12,\n",
       "         -3.03016876e-14,   4.47219386e-16,   4.98705560e-17,\n",
       "          2.48414744e-18,   1.01539809e-19,   3.79082978e-21,\n",
       "          1.34390969e-22]])"
      ]
     },
     "execution_count": 10,
     "metadata": {},
     "output_type": "execute_result"
    }
   ],
   "source": [
    "#(1 point)\n",
    "# Read the CSV file into a DataFrame: df\n",
    "# your code here\n",
    "df = pd.read_csv('LadyBugs.csv')\n",
    "\n",
    "# Create arrays for features (Lighted) and target variable (Temp)\n",
    "# your code here\n",
    "y = df[['Lighted']]\n",
    "X = df[['Temp']]\n",
    "\n",
    "# Add in 15-degree polynomial of the X variables\n",
    "# your code here\n",
    "poly = PolynomialFeatures(degree = 15)\n",
    "X2 = pd.DataFrame(poly.fit_transform(X))\n",
    "print(\"Dimensions of X after reshaping: {}\".format(X.shape))\n",
    "\n",
    "# Create training and test sets\n",
    "# your code here\n",
    "X_train, X_test, y_train, y_test = train_test_split(X2, y, test_size = 0.3)\n",
    "\n",
    "# Create a ridge regressor object called ridge with lambda = 0.1\n",
    "ridge = Ridge(normalize = True, alpha = 0.1)\n",
    "\n",
    "# Train the ridge model using the training sets (the polynomial factors are in the data)\n",
    "# your code here\n",
    "ridge.fit(X_train, y_train)\n",
    "\n",
    "# The coefficients\n",
    "# your code here\n",
    "ridge.coef_"
   ]
  },
  {
   "cell_type": "markdown",
   "metadata": {},
   "source": [
    "## Plot outputs"
   ]
  },
  {
   "cell_type": "code",
   "execution_count": 11,
   "metadata": {
    "collapsed": false
   },
   "outputs": [
    {
     "data": {
      "text/plain": [
       "<matplotlib.collections.PathCollection at 0x20588194eb8>"
      ]
     },
     "execution_count": 11,
     "metadata": {},
     "output_type": "execute_result"
    },
    {
     "data": {
      "image/png": "[encoded data removed]",
      "text/plain": [
       "<matplotlib.figure.Figure at 0x205880ee470>"
      ]
     },
     "metadata": {},
     "output_type": "display_data"
    }
   ],
   "source": [
    "#(1 point)\n",
    "# This plots the predicted ols fitted line\n",
    "# your code here (see code above in Part II plot outputs for help)\n",
    "predictor_space = pd.DataFrame(np.arange(min, max, 0.05)) # Creates prediction space on x interval\n",
    "predictor_poly = pd.DataFrame(poly.fit_transform(predictor_space)) # Creates data to predict on\n",
    "plt.plot(predictor_space, ridge.predict(predictor_poly), color='blue') # Plot fitted model \n",
    "\n",
    "# Scatter plot the actual test data\n",
    "# your code here\n",
    "plt.scatter(X_test.iloc[:,[1]], y_test, color='black')"
   ]
  },
  {
   "cell_type": "code",
   "execution_count": 12,
   "metadata": {
    "collapsed": false
   },
   "outputs": [
    {
     "name": "stdout",
     "output_type": "stream",
     "text": [
      "R^2: 0.37890984882481704\n",
      "Root Mean Squared Error: 7.1747891620309066\n"
     ]
    }
   ],
   "source": [
    "#(1 point)\n",
    "# Predict on the test data: y_pred\n",
    "# your code here\n",
    "y_pred = ridge.predict(X_test)\n",
    "\n",
    "# Computer and print R^2 and RMSE\n",
    "# your code here\n",
    "print(\"R^2: {}\".format(ridge.score(X_test, y_test)))\n",
    "rmse = np.sqrt(mean_squared_error(y_test, y_pred))\n",
    "print(\"Root Mean Squared Error: {}\".format(rmse))"
   ]
  },
  {
   "cell_type": "markdown",
   "metadata": {},
   "source": [
    "## a. Does this plot look better than the previous Polynomial plot? (1 point)\n",
    "## b. Why? What do out of sample metrics tell you? (1 point)\n",
    "### your answer here\n",
    "A. It is less fitted, where there is lower bias to the model and higher variance between the model and the points provided in the data as compared to the simple Polynomial plot. It may be a better balance between the Polynomial and the OLS plot between bias and variance.\n",
    "B. The R^2 shows that the model only explains some of the variance in the sample which isn't very high, but better than the OLS and Polynomial. The Root Mean Squared Error shows that the model is more precise as it is lower than the other two models."
   ]
  },
  {
   "cell_type": "markdown",
   "metadata": {},
   "source": [
    "# Get the 5 fold CV Scores (R2) for all 3 models"
   ]
  },
  {
   "cell_type": "code",
   "execution_count": 13,
   "metadata": {
    "collapsed": false
   },
   "outputs": [
    {
     "name": "stdout",
     "output_type": "stream",
     "text": [
      "Cross-validated OLS scores: [-30.75075459  -0.04556113 -14.29669246  -2.24972457 -29.57476511]\n",
      "Cross-validated Polynomial scores: [ -2.54060171e+01  -5.74218783e-03  -1.74007772e+01  -3.38514690e+01\n",
      "  -9.08551523e+14]\n",
      "Cross-validated Ridge scores: [ -2.33809737e+01   2.19479692e-01  -1.09999672e+01  -4.16344039e-01\n",
      "  -7.06842774e+04]\n"
     ]
    }
   ],
   "source": [
    "#(1 points)\n",
    "ols_scores = cross_val_score(ols, X, y, cv = 5, scoring = 'r2')\n",
    "print(\"Cross-validated OLS scores:\", ols_scores)\n",
    "\n",
    "poly_scores = cross_val_score(ols2, X1, y, cv = 5, scoring = 'r2')\n",
    "print(\"Cross-validated Polynomial scores:\", poly_scores)# your code here\n",
    "# your code here\n",
    "\n",
    "# Get the CV Score\n",
    "ridge_scores = cross_val_score(ridge, X2, y, cv = 5, scoring = 'r2')\n",
    "print(\"Cross-validated Ridge scores:\", ridge_scores) # your code here\n",
    "# your code here"
   ]
  },
  {
   "cell_type": "markdown",
   "metadata": {},
   "source": [
    "## Explain which model if any is best and why. (1 point)\n",
    "### your answer here\n",
    "The Ridge Regression is the best as the Cross-validated scores are higher than the other models. It also has the highest R^2 and lowest RMSE."
   ]
  },
  {
   "cell_type": "markdown",
   "metadata": {},
   "source": [
    "# Hyper Tune Lambda, K-fold Grid Search, Ridge Regression, Part IV"
   ]
  },
  {
   "cell_type": "code",
   "execution_count": 14,
   "metadata": {
    "collapsed": false
   },
   "outputs": [
    {
     "name": "stdout",
     "output_type": "stream",
     "text": [
      "Dimensions of X after reshaping: (44, 1)\n",
      "{'alpha': 0.001}\n"
     ]
    },
    {
     "data": {
      "text/plain": [
       "Ridge(alpha=0.001, copy_X=True, fit_intercept=True, max_iter=None,\n",
       "   normalize=True, random_state=None, solver='auto', tol=0.001)"
      ]
     },
     "execution_count": 14,
     "metadata": {},
     "output_type": "execute_result"
    }
   ],
   "source": [
    "#(4 points)\n",
    "\n",
    "# Read the CSV file into a DataFrame: df\n",
    "# your code here\n",
    "df = pd.read_csv('Ladybugs.csv')\n",
    "\n",
    "# Create arrays for features (Lighted) and target variable (Temp)\n",
    "# your code here\n",
    "y = df[['Lighted']]\n",
    "X = df[['Temp']]\n",
    "\n",
    "# Add in 15-degree polynomial of the X variables\n",
    "# your code here\n",
    "poly = PolynomialFeatures(degree = 15)\n",
    "X2 = pd.DataFrame(poly.fit_transform(X))\n",
    "print(\"Dimensions of X after reshaping: {}\".format(X.shape))\n",
    "\n",
    "# Create training and test sets with 0.3 hold out for test data\n",
    "# your code here\n",
    "X_train, X_test, y_train, y_test = train_test_split(X2, y, test_size = 0.3)\n",
    "\n",
    "# Setup a grid of lambdas (aka alphas) called param_grid of 20 lambdas from .001 to 2 \n",
    "param_grid = {'alpha': np.linspace(0.001, 2.0, num = 20)}\n",
    "\n",
    "# Create a ridge regressor object called ridge\n",
    "# your code here\n",
    "ridge = Ridge(normalize = True)\n",
    "\n",
    "# Setup the GridSearchCV object called grid_ridge for 5 folds using the param_grid above and ridge object\n",
    "grid_ridge = GridSearchCV(ridge, param_grid, cv = 5)\n",
    "\n",
    "# Train the model using the training sets 5 folds for all lambdas!\n",
    "# your code here\n",
    "grid_ridge.fit(X_train, y_train)\n",
    "\n",
    "#Get the best lambda\n",
    "best = grid_ridge.best_params_ # your code here\n",
    "print (best)\n",
    "\n",
    "# Create a final ridge regressor object called ridge_final using the best lambda from hypertuning\n",
    "ridge_final = Ridge(alpha = best['alpha'], normalize = True)\n",
    "\n",
    "# Now fit this model on the test data \n",
    "# your code here\n",
    "ridge_final.fit(X_train, y_train)"
   ]
  },
  {
   "cell_type": "markdown",
   "metadata": {},
   "source": [
    "## Plot outputs"
   ]
  },
  {
   "cell_type": "code",
   "execution_count": 15,
   "metadata": {
    "collapsed": false
   },
   "outputs": [
    {
     "data": {
      "text/plain": [
       "<matplotlib.collections.PathCollection at 0x205894ddcf8>"
      ]
     },
     "execution_count": 15,
     "metadata": {},
     "output_type": "execute_result"
    },
    {
     "data": {
      "image/png": "[encoded data removed]",
      "text/plain": [
       "<matplotlib.figure.Figure at 0x2058816b0f0>"
      ]
     },
     "metadata": {},
     "output_type": "display_data"
    }
   ],
   "source": [
    "#(1 point)\n",
    "# This plots the predicted ols fitted line\n",
    "predictor_space = pd.DataFrame(np.arange(min, max, 0.05)) # Creates prediction space on x interval\n",
    "predictor_poly = pd.DataFrame(poly.fit_transform(predictor_space)) # Creates data to predict on\n",
    "plt.plot(predictor_space, ridge_final.predict(predictor_poly), color='blue') # Plot fitted model \n",
    "\n",
    "# Scatter plot the actual test data\n",
    "# your code here\n",
    "plt.scatter(X_test.iloc[:,[1]], y_test, color='black')"
   ]
  },
  {
   "cell_type": "markdown",
   "metadata": {},
   "source": [
    "## Final scores given tuned lambda"
   ]
  },
  {
   "cell_type": "code",
   "execution_count": 18,
   "metadata": {
    "collapsed": false
   },
   "outputs": [
    {
     "name": "stdout",
     "output_type": "stream",
     "text": [
      "Cross-validated Ridge scores: [ -5.15326773e+00   4.89543923e-01  -4.06486061e+00  -1.32638588e+00\n",
      "  -6.73188206e+06]\n",
      "R^2: 0.7650993963957727\n",
      "Root Mean Squared Error: 6.78646435550238\n"
     ]
    }
   ],
   "source": [
    "#(1 point)\n",
    "# Predict on the test data: y_pred\n",
    "y_pred = ridge_final.predict(X_test)\n",
    "\n",
    "# Compute and print R^2 and RMSE\n",
    "# your code here\n",
    "ridge_final_scores = cross_val_score(ridge_final, X2, y, cv = 5, scoring = 'r2')\n",
    "print(\"Cross-validated Ridge scores:\", ridge_final_scores)\n",
    "print(\"R^2: {}\".format(ridge_final.score(X_test, y_test)))\n",
    "rmse = np.sqrt(mean_squared_error(y_test, y_pred))\n",
    "print(\"Root Mean Squared Error: {}\".format(rmse))"
   ]
  },
  {
   "cell_type": "markdown",
   "metadata": {},
   "source": [
    "## a. How does your final score (R2) compare to before? (1 point)\n",
    "## b. What about your fit to the data graphically? (1 point)\n",
    "## c. Why do you think the fit is better or worse using Ridge and hypertuning your lambda paramater? (2 point)\n",
    "### your answer here\n",
    "a. The R^2 is much higher which mean the model explains more of the data.\n",
    "b. It looks better graphically and seems to fit the data well while not being over-fitted.\n",
    "c. It is better hypertuning lambda as it smoothed out the model by seemingly stretching out the regression line, better fitting it to the data while also reducing the RMSE."
   ]
  },
  {
   "cell_type": "code",
   "execution_count": null,
   "metadata": {
    "collapsed": true
   },
   "outputs": [],
   "source": []
  }
 ],
 "metadata": {
  "anaconda-cloud": {},
  "kernelspec": {
   "display_name": "Python [default]",
   "language": "python",
   "name": "python3"
  },
  "language_info": {
   "codemirror_mode": {
    "name": "ipython",
    "version": 3
   },
   "file_extension": ".py",
   "mimetype": "text/x-python",
   "name": "python",
   "nbconvert_exporter": "python",
   "pygments_lexer": "ipython3",
   "version": "3.5.2"
  }
 },
 "nbformat": 4,
 "nbformat_minor": 2
}
